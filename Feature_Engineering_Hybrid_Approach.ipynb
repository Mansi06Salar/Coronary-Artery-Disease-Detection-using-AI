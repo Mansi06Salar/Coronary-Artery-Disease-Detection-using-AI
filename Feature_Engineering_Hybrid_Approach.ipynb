{
  "nbformat": 4,
  "nbformat_minor": 0,
  "metadata": {
    "colab": {
      "provenance": [],
      "include_colab_link": true
    },
    "kernelspec": {
      "name": "python3",
      "display_name": "Python 3"
    },
    "language_info": {
      "name": "python"
    }
  },
  "cells": [
    {
      "cell_type": "markdown",
      "metadata": {
        "id": "view-in-github",
        "colab_type": "text"
      },
      "source": [
        "<a href=\"https://colab.research.google.com/github/Mansi06Salar/Coronary-Artery-Disease-Detection-using-AI/blob/main/Feature_Engineering_Hybrid_Approach.ipynb\" target=\"_parent\"><img src=\"https://colab.research.google.com/assets/colab-badge.svg\" alt=\"Open In Colab\"/></a>"
      ]
    },
    {
      "cell_type": "code",
      "source": [
        "import pandas as pd\n",
        "import numpy as np\n",
        "from xgboost import XGBClassifier\n",
        "from sklearn.feature_selection import RFE, mutual_info_classif\n",
        "from sklearn.ensemble import RandomForestClassifier"
      ],
      "metadata": {
        "id": "VPWxcnT4Tqjl"
      },
      "execution_count": null,
      "outputs": []
    },
    {
      "cell_type": "code",
      "source": [
        "df = pd.read_csv(\"PreProcessed_Dataset_MinMax.csv\")\n",
        "df.columns = [col.replace(\" \", \"_\") for col in df.columns]"
      ],
      "metadata": {
        "id": "aLzUod7qTvB-"
      },
      "execution_count": null,
      "outputs": []
    },
    {
      "cell_type": "code",
      "source": [
        "X = df.drop(columns=['CAD'])\n",
        "y = df['CAD']"
      ],
      "metadata": {
        "id": "k9Pl19O0TwSs"
      },
      "execution_count": null,
      "outputs": []
    },
    {
      "cell_type": "code",
      "source": [
        "print(f\"Before Feature Selection: {X.shape}\")"
      ],
      "metadata": {
        "colab": {
          "base_uri": "https://localhost:8080/"
        },
        "id": "0t4abDc4Txo9",
        "outputId": "38ecf658-4d90-40e9-ed96-d950a90984c4"
      },
      "execution_count": null,
      "outputs": [
        {
          "output_type": "stream",
          "name": "stdout",
          "text": [
            "Before Feature Selection: (303, 53)\n"
          ]
        }
      ]
    },
    {
      "cell_type": "code",
      "source": [
        "# XGBoost Feature Importance\n",
        "xgb_model = XGBClassifier(eval_metric='logloss', random_state=42)\n",
        "xgb_model.fit(X, y)\n",
        "xgb_importance = pd.DataFrame({\"Feature\": X.columns, \"XGB_Importance\": xgb_model.feature_importances_})"
      ],
      "metadata": {
        "id": "QOFRGXUtTzan"
      },
      "execution_count": null,
      "outputs": []
    },
    {
      "cell_type": "code",
      "source": [
        "# Recursive Feature Elimination (RFE) with RandomForest\n",
        "rf_model = RandomForestClassifier(n_estimators=100, random_state=42)\n",
        "rfe = RFE(rf_model, n_features_to_select=15)\n",
        "rfe.fit(X, y)\n",
        "rfe_features = X.columns[rfe.support_]"
      ],
      "metadata": {
        "id": "SQpLv-ANT2Zo"
      },
      "execution_count": null,
      "outputs": []
    },
    {
      "cell_type": "code",
      "source": [
        "# Mutual Information Scores\n",
        "mi_scores = mutual_info_classif(X, y)\n",
        "mi_importance = pd.DataFrame({\"Feature\": X.columns, \"MI_Score\": mi_scores})"
      ],
      "metadata": {
        "id": "b1dxzvf8T4St"
      },
      "execution_count": null,
      "outputs": []
    },
    {
      "cell_type": "code",
      "source": [
        "# Hybrid Feature Selection\n",
        "feature_scores = xgb_importance.merge(mi_importance, on=\"Feature\")\n",
        "feature_scores[\"Final_Score\"] = (feature_scores[\"XGB_Importance\"] * 0.5 + feature_scores[\"MI_Score\"] * 0.3)\n",
        "top_features = feature_scores.nlargest(15, \"Final_Score\")[\"Feature\"].tolist()\n",
        "final_features = list(set(top_features + list(rfe_features)))"
      ],
      "metadata": {
        "id": "R3UcL9PLT5tH"
      },
      "execution_count": null,
      "outputs": []
    },
    {
      "cell_type": "code",
      "execution_count": null,
      "metadata": {
        "id": "_BtIdEvCTdvi"
      },
      "outputs": [],
      "source": [
        "X_reduced = X[final_features].copy()\n",
        "X_reduced.loc[:, 'CAD'] = y  #Fixing the SettingWithCopyWarning\n",
        "X_reduced.to_csv(\"Reduced_CAD_Hybrid.csv\", index=False)"
      ]
    },
    {
      "cell_type": "code",
      "source": [
        "print(f\"After Feature Selection: {X_reduced.shape}\")\n",
        "print(f\"Hybrid Feature Selection Done. Final {len(final_features)} features saved.\")"
      ],
      "metadata": {
        "colab": {
          "base_uri": "https://localhost:8080/"
        },
        "id": "RQMPghLaT8u0",
        "outputId": "87b9fc7f-28a2-462d-d08f-fb469df9f989"
      },
      "execution_count": null,
      "outputs": [
        {
          "output_type": "stream",
          "name": "stdout",
          "text": [
            "After Feature Selection: (303, 22)\n",
            "Hybrid Feature Selection Done. Final 21 features saved.\n"
          ]
        }
      ]
    },
    {
      "cell_type": "code",
      "source": [
        "import pandas as pd\n",
        "import numpy as np\n",
        "from xgboost import XGBClassifier\n",
        "from sklearn.feature_selection import RFE, mutual_info_classif\n",
        "from sklearn.ensemble import RandomForestClassifier\n",
        "\n",
        "df = pd.read_csv(\"PreProcessed_Dataset_MinMax.csv\")\n",
        "\n",
        "# Replace spaces with underscores in column names\n",
        "df.columns = [col.replace(\" \", \"_\") for col in df.columns]\n",
        "\n",
        "# Separate the target variable 'CAD' from the features\n",
        "X = df.drop(columns=['CAD'])\n",
        "y = df['CAD']\n",
        "\n",
        "print(f\"Before Feature Selection: {X.shape}\")\n",
        "\n",
        "# Correlation Check\n",
        "corr_matrix = X.corr()\n",
        "\n",
        "# Identify highly correlated features (correlation > 0.9 or < -0.9)\n",
        "high_corr_vars = np.where(abs(corr_matrix) > 0.9)\n",
        "\n",
        "# Create a list of pairs of highly correlated features\n",
        "high_corr_pairs = [(X.columns[i], X.columns[j]) for i, j in zip(*high_corr_vars) if i != j and i < j]\n",
        "\n",
        "print(\"Highly correlated feature pairs (> 0.9):\")\n",
        "for pair in high_corr_pairs:\n",
        "    print(pair)\n",
        "\n",
        "# Drop one of the features from each highly correlated pair to avoid multicollinearity\n",
        "features_to_drop = [pair[1] for pair in high_corr_pairs]\n",
        "X = X.drop(columns=features_to_drop)\n",
        "\n",
        "print(f\"After Correlation Removal: {X.shape}\")\n",
        "\n",
        "# XGBoost Feature Importance\n",
        "xgb_model = XGBClassifier(eval_metric='logloss', random_state=42)\n",
        "xgb_model.fit(X, y)\n",
        "xgb_importance = pd.DataFrame({\"Feature\": X.columns, \"XGB_Importance\": xgb_model.feature_importances_})\n",
        "\n",
        "# Recursive Feature Elimination (RFE) with RandomForest\n",
        "rf_model = RandomForestClassifier(n_estimators=100, random_state=42)\n",
        "rfe = RFE(rf_model, n_features_to_select=15)\n",
        "rfe.fit(X, y)\n",
        "rfe_features = X.columns[rfe.support_]\n",
        "\n",
        "# Mutual Information Scores\n",
        "mi_scores = mutual_info_classif(X, y)\n",
        "mi_importance = pd.DataFrame({\"Feature\": X.columns, \"MI_Score\": mi_scores})\n",
        "\n",
        "# Hybrid Feature Selection\n",
        "feature_scores = xgb_importance.merge(mi_importance, on=\"Feature\")\n",
        "feature_scores[\"Final_Score\"] = (feature_scores[\"XGB_Importance\"] * 0.5 + feature_scores[\"MI_Score\"] * 0.3)\n",
        "\n",
        "# Select top 15 features based on hybrid score\n",
        "top_features = feature_scores.nlargest(15, \"Final_Score\")[\"Feature\"].tolist()\n",
        "\n",
        "# Combine top features from XGBoost importance, RFE, and MI\n",
        "final_features = list(set(top_features + list(rfe_features)))\n",
        "\n",
        "# Final reduced dataset\n",
        "X_reduced = X[final_features].copy()\n",
        "X_reduced.loc[:, 'CAD'] = y  # Fixing the SettingWithCopyWarning\n",
        "\n",
        "# Save the reduced dataset\n",
        "X_reduced.to_csv(\"Reduced_CAD_Hybrid.csv\", index=False)\n",
        "\n",
        "print(f\"After Feature Selection: {X_reduced.shape}\")\n",
        "print(f\"Hybrid Feature Selection Done. Final {len(final_features)} features saved.\")\n"
      ],
      "metadata": {
        "colab": {
          "base_uri": "https://localhost:8080/"
        },
        "id": "6OJxkdXog0EC",
        "outputId": "b42d11c6-8726-42da-c769-586d71cd7952"
      },
      "execution_count": null,
      "outputs": [
        {
          "output_type": "stream",
          "name": "stdout",
          "text": [
            "Before Feature Selection: (303, 53)\n",
            "Highly correlated feature pairs (> 0.9):\n",
            "('Lymph', 'Neut')\n",
            "After Correlation Removal: (303, 52)\n",
            "After Feature Selection: (303, 23)\n",
            "Hybrid Feature Selection Done. Final 22 features saved.\n"
          ]
        }
      ]
    }
  ]
}