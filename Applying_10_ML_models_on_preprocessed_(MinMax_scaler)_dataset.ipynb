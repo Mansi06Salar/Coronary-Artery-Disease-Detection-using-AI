{
  "nbformat": 4,
  "nbformat_minor": 0,
  "metadata": {
    "colab": {
      "provenance": [],
      "include_colab_link": true
    },
    "kernelspec": {
      "name": "python3",
      "display_name": "Python 3"
    },
    "language_info": {
      "name": "python"
    }
  },
  "cells": [
    {
      "cell_type": "markdown",
      "metadata": {
        "id": "view-in-github",
        "colab_type": "text"
      },
      "source": [
        "<a href=\"https://colab.research.google.com/github/Mansi06Salar/Coronary-Artery-Disease-Detection-using-AI/blob/main/Applying_10_ML_models_on_preprocessed_(MinMax_scaler)_dataset.ipynb\" target=\"_parent\"><img src=\"https://colab.research.google.com/assets/colab-badge.svg\" alt=\"Open In Colab\"/></a>"
      ]
    },
    {
      "source": [
        "!pip install numpy==1.24.3 catboost==1.2"
      ],
      "cell_type": "code",
      "metadata": {
        "colab": {
          "base_uri": "https://localhost:8080/",
          "height": 844
        },
        "id": "FZ-2JOqpCtT5",
        "outputId": "dfa195fe-f4aa-43eb-d0fa-76b5d07debf7"
      },
      "execution_count": null,
      "outputs": [
        {
          "output_type": "stream",
          "name": "stdout",
          "text": [
            "Collecting numpy==1.24.3\n",
            "  Downloading numpy-1.24.3-cp311-cp311-manylinux_2_17_x86_64.manylinux2014_x86_64.whl.metadata (5.6 kB)\n",
            "Collecting catboost==1.2\n",
            "  Downloading catboost-1.2-cp311-cp311-manylinux2014_x86_64.whl.metadata (1.2 kB)\n",
            "Requirement already satisfied: graphviz in /usr/local/lib/python3.11/dist-packages (from catboost==1.2) (0.20.3)\n",
            "Requirement already satisfied: matplotlib in /usr/local/lib/python3.11/dist-packages (from catboost==1.2) (3.10.0)\n",
            "Requirement already satisfied: pandas>=0.24 in /usr/local/lib/python3.11/dist-packages (from catboost==1.2) (2.2.2)\n",
            "Requirement already satisfied: scipy in /usr/local/lib/python3.11/dist-packages (from catboost==1.2) (1.14.1)\n",
            "Requirement already satisfied: plotly in /usr/local/lib/python3.11/dist-packages (from catboost==1.2) (5.24.1)\n",
            "Requirement already satisfied: six in /usr/local/lib/python3.11/dist-packages (from catboost==1.2) (1.17.0)\n",
            "Requirement already satisfied: python-dateutil>=2.8.2 in /usr/local/lib/python3.11/dist-packages (from pandas>=0.24->catboost==1.2) (2.8.2)\n",
            "Requirement already satisfied: pytz>=2020.1 in /usr/local/lib/python3.11/dist-packages (from pandas>=0.24->catboost==1.2) (2025.2)\n",
            "Requirement already satisfied: tzdata>=2022.7 in /usr/local/lib/python3.11/dist-packages (from pandas>=0.24->catboost==1.2) (2025.2)\n",
            "Requirement already satisfied: contourpy>=1.0.1 in /usr/local/lib/python3.11/dist-packages (from matplotlib->catboost==1.2) (1.3.1)\n",
            "Requirement already satisfied: cycler>=0.10 in /usr/local/lib/python3.11/dist-packages (from matplotlib->catboost==1.2) (0.12.1)\n",
            "Requirement already satisfied: fonttools>=4.22.0 in /usr/local/lib/python3.11/dist-packages (from matplotlib->catboost==1.2) (4.57.0)\n",
            "Requirement already satisfied: kiwisolver>=1.3.1 in /usr/local/lib/python3.11/dist-packages (from matplotlib->catboost==1.2) (1.4.8)\n",
            "Requirement already satisfied: packaging>=20.0 in /usr/local/lib/python3.11/dist-packages (from matplotlib->catboost==1.2) (24.2)\n",
            "Requirement already satisfied: pillow>=8 in /usr/local/lib/python3.11/dist-packages (from matplotlib->catboost==1.2) (11.1.0)\n",
            "Requirement already satisfied: pyparsing>=2.3.1 in /usr/local/lib/python3.11/dist-packages (from matplotlib->catboost==1.2) (3.2.3)\n",
            "Requirement already satisfied: tenacity>=6.2.0 in /usr/local/lib/python3.11/dist-packages (from plotly->catboost==1.2) (9.1.2)\n",
            "Downloading numpy-1.24.3-cp311-cp311-manylinux_2_17_x86_64.manylinux2014_x86_64.whl (17.3 MB)\n",
            "\u001b[2K   \u001b[90m━━━━━━━━━━━━━━━━━━━━━━━━━━━━━━━━━━━━━━━━\u001b[0m \u001b[32m17.3/17.3 MB\u001b[0m \u001b[31m19.3 MB/s\u001b[0m eta \u001b[36m0:00:00\u001b[0m\n",
            "\u001b[?25hDownloading catboost-1.2-cp311-cp311-manylinux2014_x86_64.whl (98.5 MB)\n",
            "\u001b[2K   \u001b[90m━━━━━━━━━━━━━━━━━━━━━━━━━━━━━━━━━━━━━━━━\u001b[0m \u001b[32m98.5/98.5 MB\u001b[0m \u001b[31m6.6 MB/s\u001b[0m eta \u001b[36m0:00:00\u001b[0m\n",
            "\u001b[?25hInstalling collected packages: numpy, catboost\n",
            "  Attempting uninstall: numpy\n",
            "    Found existing installation: numpy 2.0.2\n",
            "    Uninstalling numpy-2.0.2:\n",
            "      Successfully uninstalled numpy-2.0.2\n",
            "\u001b[31mERROR: pip's dependency resolver does not currently take into account all the packages that are installed. This behaviour is the source of the following dependency conflicts.\n",
            "albumentations 2.0.5 requires numpy>=1.24.4, but you have numpy 1.24.3 which is incompatible.\n",
            "pymc 5.21.2 requires numpy>=1.25.0, but you have numpy 1.24.3 which is incompatible.\n",
            "tensorflow 2.18.0 requires numpy<2.1.0,>=1.26.0, but you have numpy 1.24.3 which is incompatible.\n",
            "treescope 0.1.9 requires numpy>=1.25.2, but you have numpy 1.24.3 which is incompatible.\n",
            "albucore 0.0.23 requires numpy>=1.24.4, but you have numpy 1.24.3 which is incompatible.\n",
            "jax 0.5.2 requires numpy>=1.25, but you have numpy 1.24.3 which is incompatible.\n",
            "blosc2 3.3.0 requires numpy>=1.26, but you have numpy 1.24.3 which is incompatible.\n",
            "thinc 8.3.6 requires numpy<3.0.0,>=2.0.0, but you have numpy 1.24.3 which is incompatible.\n",
            "jaxlib 0.5.1 requires numpy>=1.25, but you have numpy 1.24.3 which is incompatible.\u001b[0m\u001b[31m\n",
            "\u001b[0mSuccessfully installed catboost-1.2 numpy-1.24.3\n"
          ]
        },
        {
          "output_type": "display_data",
          "data": {
            "application/vnd.colab-display-data+json": {
              "pip_warning": {
                "packages": [
                  "numpy"
                ]
              },
              "id": "639c6caf59b247c6af4880be69ff199b"
            }
          },
          "metadata": {}
        }
      ]
    },
    {
      "cell_type": "code",
      "source": [
        "import numpy as np\n",
        "import pandas as pd\n",
        "import time\n",
        "from collections import Counter\n",
        "from sklearn.model_selection import train_test_split\n",
        "from sklearn.metrics import (\n",
        "    accuracy_score, precision_score, recall_score, f1_score, roc_auc_score\n",
        ")\n",
        "from imblearn.over_sampling import SMOTE\n",
        "\n",
        "from sklearn.ensemble import RandomForestClassifier, AdaBoostClassifier\n",
        "from xgboost import XGBClassifier\n",
        "from lightgbm import LGBMClassifier\n",
        "from catboost import CatBoostClassifier\n",
        "from sklearn.linear_model import LogisticRegression\n",
        "from sklearn.svm import SVC\n",
        "from sklearn.neighbors import KNeighborsClassifier\n",
        "from sklearn.tree import DecisionTreeClassifier\n",
        "from sklearn.naive_bayes import GaussianNB"
      ],
      "metadata": {
        "id": "3Um-c6SsCeI1"
      },
      "execution_count": null,
      "outputs": []
    },
    {
      "cell_type": "code",
      "source": [
        "df = pd.read_csv(\"Reduced_Dataset_Hybrid_Approach.csv\")\n",
        "print(df.head())"
      ],
      "metadata": {
        "colab": {
          "base_uri": "https://localhost:8080/"
        },
        "id": "Ac-LEhtwCfoN",
        "outputId": "f5783f9d-693b-4e80-b2e8-bce8bb71177e"
      },
      "execution_count": null,
      "outputs": [
        {
          "output_type": "stream",
          "name": "stdout",
          "text": [
            "         TG  DLP   DM       LDL       PLT      Neut   BP     Lymph       Age  \\\n",
            "0  0.210267  1.0  0.0  0.640187  0.329149  0.350877  0.2  0.603774  0.410714   \n",
            "1  0.268509  0.0  0.0  0.481308  0.195258  0.403509  0.5  0.584906  0.660714   \n",
            "2  0.065153  0.0  0.0  0.242991  0.285914  0.491228  0.1  0.584906  0.428571   \n",
            "3  0.025666  0.0  0.0  0.172897  1.000000  0.701754  0.1  0.207547  0.642857   \n",
            "4  0.131293  0.0  0.0  0.429907  0.347280  0.122807  0.2  0.905660  0.357143   \n",
            "\n",
            "     Weight  ...         K  Tinversion  Region_RWMA  Current_Smoker  HTN  \\\n",
            "0  0.583333  ...  0.472222         1.0          0.0             1.0  1.0   \n",
            "1  0.305556  ...  0.472222         1.0          1.0             0.0  1.0   \n",
            "2  0.083333  ...  0.472222         0.0          0.5             1.0  0.0   \n",
            "3  0.263889  ...  0.388889         0.0          0.0             0.0  1.0   \n",
            "4  0.541667  ...  0.277778         0.0          0.0             0.0  1.0   \n",
            "\n",
            "   Atypical  St_Depression       FBS       ESR  CAD  \n",
            "0       0.0            1.0  0.082840  0.067416    1  \n",
            "1       0.0            1.0  0.053254  0.280899    1  \n",
            "2       0.0            0.0  0.068047  0.101124    1  \n",
            "3       0.0            1.0  0.047337  0.842697    0  \n",
            "4       0.0            0.0  0.124260  0.292135    0  \n",
            "\n",
            "[5 rows x 24 columns]\n"
          ]
        }
      ]
    },
    {
      "cell_type": "code",
      "source": [
        "#Fix LightGBM warning: Remove spaces from feature names\n",
        "df.columns = [col.replace(\" \", \"_\") for col in df.columns]"
      ],
      "metadata": {
        "id": "W8-5vnFWCjTU"
      },
      "execution_count": null,
      "outputs": []
    },
    {
      "cell_type": "code",
      "source": [
        "X = df.drop(columns=['CAD'])\n",
        "y = df['CAD']"
      ],
      "metadata": {
        "id": "sXvmPOoiCktU"
      },
      "execution_count": null,
      "outputs": []
    },
    {
      "cell_type": "code",
      "source": [
        "print(\"Class Distribution BEFORE SMOTE:\", Counter(y))"
      ],
      "metadata": {
        "colab": {
          "base_uri": "https://localhost:8080/"
        },
        "id": "Cf75pyfUCnLs",
        "outputId": "b12a59cf-b3d5-457b-a357-39d8a531e8c4"
      },
      "execution_count": null,
      "outputs": [
        {
          "output_type": "stream",
          "name": "stdout",
          "text": [
            "Class Distribution BEFORE SMOTE: Counter({1: 216, 0: 87})\n"
          ]
        }
      ]
    },
    {
      "cell_type": "code",
      "source": [
        "smote_applied = False\n",
        "imbalance_threshold = 0.6  #SMOTE if any class is <40% of the largest class\n",
        "\n",
        "class_counts = Counter(y)\n",
        "minority_class = min(class_counts, key=class_counts.get)\n",
        "majority_class = max(class_counts, key=class_counts.get)\n",
        "imbalance_ratio = class_counts[minority_class] / class_counts[majority_class]\n",
        "\n",
        "if imbalance_ratio < imbalance_threshold:\n",
        "    smote = SMOTE(random_state=42)\n",
        "    X, y = smote.fit_resample(X, y)\n",
        "    smote_applied = True\n",
        "\n",
        "print(\"Class Distribution AFTER SMOTE:\", Counter(y) if smote_applied else \"SMOTE Not Applied\")"
      ],
      "metadata": {
        "colab": {
          "base_uri": "https://localhost:8080/"
        },
        "id": "hOwqB6pvCre4",
        "outputId": "a777bc68-666f-468d-812d-1e08a795e12f"
      },
      "execution_count": null,
      "outputs": [
        {
          "output_type": "stream",
          "name": "stdout",
          "text": [
            "Class Distribution AFTER SMOTE: Counter({1: 216, 0: 216})\n"
          ]
        }
      ]
    },
    {
      "cell_type": "code",
      "source": [
        "X_train, X_test, y_train, y_test = train_test_split(X, y, test_size=0.2, random_state=42, stratify=y)"
      ],
      "metadata": {
        "id": "WboLsRjfCs8q"
      },
      "execution_count": null,
      "outputs": []
    },
    {
      "cell_type": "code",
      "source": [
        "models = {\n",
        "    \"Logistic Regression\": LogisticRegression(),\n",
        "    \"Decision Tree\": DecisionTreeClassifier(max_depth=10),\n",
        "    \"Random Forest\": RandomForestClassifier(n_estimators=100, max_depth=10),\n",
        "    \"XGBoost\": XGBClassifier(eval_metric='logloss', use_label_encoder=False),\n",
        "    \"LightGBM\": LGBMClassifier(max_depth=10, min_data_in_leaf=5),\n",
        "    \"CatBoost\": CatBoostClassifier(verbose=0),\n",
        "    \"AdaBoost\": AdaBoostClassifier(n_estimators=50),\n",
        "    \"SVM\": SVC(probability=True),\n",
        "    \"KNN\": KNeighborsClassifier(n_neighbors=5),\n",
        "    \"Naïve Bayes\": GaussianNB()\n",
        "}"
      ],
      "metadata": {
        "id": "B4Ng7qKyCulG"
      },
      "execution_count": null,
      "outputs": []
    },
    {
      "cell_type": "code",
      "source": [
        "results = []\n",
        "for name, model in models.items():\n",
        "    try:\n",
        "        start_time = time.time()\n",
        "        model.fit(X_train, y_train)\n",
        "        train_time = time.time() - start_time\n",
        "\n",
        "        y_pred = model.predict(X_test)\n",
        "\n",
        "        y_prob = model.predict_proba(X_test)[:, 1] if hasattr(model, \"predict_proba\") else None\n",
        "\n",
        "        accuracy = accuracy_score(y_test, y_pred)\n",
        "        precision = precision_score(y_test, y_pred, average=\"binary\", zero_division=1)\n",
        "        recall = recall_score(y_test, y_pred, average=\"binary\")\n",
        "        f1 = f1_score(y_test, y_pred, average=\"binary\")\n",
        "        auc = roc_auc_score(y_test, y_prob) if y_prob is not None else \"N/A\"\n",
        "\n",
        "        results.append([name, accuracy, precision, recall, f1, auc, train_time])\n",
        "\n",
        "    except Exception as e:\n",
        "        print(f\"Error training {name}: {e}\")"
      ],
      "metadata": {
        "colab": {
          "base_uri": "https://localhost:8080/"
        },
        "id": "k2XsR85YCxAP",
        "outputId": "6768a2cc-0143-4e0d-d5cc-9a230a0d2c46"
      },
      "execution_count": null,
      "outputs": [
        {
          "output_type": "stream",
          "name": "stderr",
          "text": [
            "/usr/local/lib/python3.11/dist-packages/xgboost/core.py:158: UserWarning: [12:58:15] WARNING: /workspace/src/learner.cc:740: \n",
            "Parameters: { \"use_label_encoder\" } are not used.\n",
            "\n",
            "  warnings.warn(smsg, UserWarning)\n"
          ]
        },
        {
          "output_type": "stream",
          "name": "stdout",
          "text": [
            "[LightGBM] [Warning] min_data_in_leaf is set=5, min_child_samples=20 will be ignored. Current value: min_data_in_leaf=5\n",
            "[LightGBM] [Warning] min_data_in_leaf is set=5, min_child_samples=20 will be ignored. Current value: min_data_in_leaf=5\n",
            "[LightGBM] [Info] Number of positive: 173, number of negative: 172\n",
            "[LightGBM] [Info] Auto-choosing row-wise multi-threading, the overhead of testing was 0.000709 seconds.\n",
            "You can set `force_row_wise=true` to remove the overhead.\n",
            "And if memory is not enough, you can set `force_col_wise=true`.\n",
            "[LightGBM] [Info] Total Bins 984\n",
            "[LightGBM] [Info] Number of data points in the train set: 345, number of used features: 23\n",
            "[LightGBM] [Info] [binary:BoostFromScore]: pavg=0.501449 -> initscore=0.005797\n",
            "[LightGBM] [Info] Start training from score 0.005797\n",
            "[LightGBM] [Warning] No further splits with positive gain, best gain: -inf\n",
            "[LightGBM] [Warning] min_data_in_leaf is set=5, min_child_samples=20 will be ignored. Current value: min_data_in_leaf=5\n",
            "[LightGBM] [Warning] min_data_in_leaf is set=5, min_child_samples=20 will be ignored. Current value: min_data_in_leaf=5\n"
          ]
        }
      ]
    },
    {
      "cell_type": "code",
      "execution_count": null,
      "metadata": {
        "colab": {
          "base_uri": "https://localhost:8080/"
        },
        "id": "DMpJE13p8PZ6",
        "outputId": "fe27a722-c735-4b9c-cc9c-82dedc39cb67"
      },
      "outputs": [
        {
          "output_type": "stream",
          "name": "stdout",
          "text": [
            "\n",
            "Model Performance Summary:\n",
            "              Model  Accuracy  Precision   Recall  F1 Score    AUROC  Train Time\n",
            "           AdaBoost  0.942529   0.975000 0.906977  0.939759 0.966173    0.153568\n",
            "            XGBoost  0.919540   0.950000 0.883721  0.915663 0.975687    1.420854\n",
            "      Random Forest  0.908046   0.926829 0.883721  0.904762 0.972516    1.105048\n",
            "           CatBoost  0.896552   0.925000 0.860465  0.891566 0.968288    8.892792\n",
            "        Naïve Bayes  0.896552   0.925000 0.860465  0.891566 0.933932    0.002794\n",
            "Logistic Regression  0.885057   0.883721 0.883721  0.883721 0.932347    0.033205\n",
            "           LightGBM  0.885057   0.945946 0.813953  0.875000 0.972516    0.318028\n",
            "                SVM  0.862069   0.860465 0.860465  0.860465 0.932347    0.022469\n",
            "      Decision Tree  0.827586   0.850000 0.790698  0.819277 0.827167    0.042372\n",
            "                KNN  0.827586   0.868421 0.767442  0.814815 0.894820    0.002293\n"
          ]
        }
      ],
      "source": [
        "metrics_df = pd.DataFrame(results, columns=[\"Model\", \"Accuracy\", \"Precision\", \"Recall\", \"F1 Score\", \"AUROC\", \"Train Time\"])\n",
        "metrics_df = metrics_df.sort_values(by=\"Accuracy\", ascending=False)\n",
        "\n",
        "print(\"\\nModel Performance Summary:\")\n",
        "print(metrics_df.to_string(index=False))\n"
      ]
    },
    {
      "cell_type": "code",
      "source": [
        "import psutil\n",
        "\n",
        "ram_info = psutil.virtual_memory()\n",
        "total_ram = ram_info.total / (1024 ** 3)\n",
        "\n",
        "cpu_count = psutil.cpu_count(logical=True)\n",
        "cpu_freq = psutil.cpu_freq().max\n",
        "\n",
        "print(f\"CPU Cores: {cpu_count}\")\n",
        "print(f\"Max CPU Frequency: {cpu_freq:.2f} MHz\")\n",
        "print(f\"Total RAM: {total_ram:.2f} GB\")\n"
      ],
      "metadata": {
        "colab": {
          "base_uri": "https://localhost:8080/"
        },
        "id": "ylf62Y-4qAbo",
        "outputId": "fbdb1456-aa0e-4828-fa35-15e0165f033f"
      },
      "execution_count": null,
      "outputs": [
        {
          "output_type": "stream",
          "name": "stdout",
          "text": [
            "💻 CPU Cores: 2\n",
            "⚡ Max CPU Frequency: 0.00 MHz\n",
            "🖥️ Total RAM: 12.67 GB\n"
          ]
        }
      ]
    },
    {
      "cell_type": "code",
      "source": [
        "!lscpu\n"
      ],
      "metadata": {
        "id": "yYG6vpdCqsDy",
        "outputId": "5e617e1d-b03a-4872-9611-ebf257f34818",
        "colab": {
          "base_uri": "https://localhost:8080/"
        }
      },
      "execution_count": null,
      "outputs": [
        {
          "output_type": "stream",
          "name": "stdout",
          "text": [
            "Architecture:             x86_64\n",
            "  CPU op-mode(s):         32-bit, 64-bit\n",
            "  Address sizes:          46 bits physical, 48 bits virtual\n",
            "  Byte Order:             Little Endian\n",
            "CPU(s):                   2\n",
            "  On-line CPU(s) list:    0,1\n",
            "Vendor ID:                GenuineIntel\n",
            "  Model name:             Intel(R) Xeon(R) CPU @ 2.20GHz\n",
            "    CPU family:           6\n",
            "    Model:                79\n",
            "    Thread(s) per core:   2\n",
            "    Core(s) per socket:   1\n",
            "    Socket(s):            1\n",
            "    Stepping:             0\n",
            "    BogoMIPS:             4399.99\n",
            "    Flags:                fpu vme de pse tsc msr pae mce cx8 apic sep mtrr pge m\n",
            "                          ca cmov pat pse36 clflush mmx fxsr sse sse2 ss ht sysc\n",
            "                          all nx pdpe1gb rdtscp lm constant_tsc rep_good nopl xt\n",
            "                          opology nonstop_tsc cpuid tsc_known_freq pni pclmulqdq\n",
            "                           ssse3 fma cx16 pcid sse4_1 sse4_2 x2apic movbe popcnt\n",
            "                           aes xsave avx f16c rdrand hypervisor lahf_lm abm 3dno\n",
            "                          wprefetch invpcid_single ssbd ibrs ibpb stibp fsgsbase\n",
            "                           tsc_adjust bmi1 hle avx2 smep bmi2 erms invpcid rtm r\n",
            "                          dseed adx smap xsaveopt arat md_clear arch_capabilitie\n",
            "                          s\n",
            "Virtualization features:  \n",
            "  Hypervisor vendor:      KVM\n",
            "  Virtualization type:    full\n",
            "Caches (sum of all):      \n",
            "  L1d:                    32 KiB (1 instance)\n",
            "  L1i:                    32 KiB (1 instance)\n",
            "  L2:                     256 KiB (1 instance)\n",
            "  L3:                     55 MiB (1 instance)\n",
            "NUMA:                     \n",
            "  NUMA node(s):           1\n",
            "  NUMA node0 CPU(s):      0,1\n",
            "Vulnerabilities:          \n",
            "  Gather data sampling:   Not affected\n",
            "  Itlb multihit:          Not affected\n",
            "  L1tf:                   Mitigation; PTE Inversion\n",
            "  Mds:                    Vulnerable; SMT Host state unknown\n",
            "  Meltdown:               Vulnerable\n",
            "  Mmio stale data:        Vulnerable\n",
            "  Reg file data sampling: Not affected\n",
            "  Retbleed:               Vulnerable\n",
            "  Spec rstack overflow:   Not affected\n",
            "  Spec store bypass:      Vulnerable\n",
            "  Spectre v1:             Vulnerable: __user pointer sanitization and usercopy b\n",
            "                          arriers only; no swapgs barriers\n",
            "  Spectre v2:             Vulnerable; IBPB: disabled; STIBP: disabled; PBRSB-eIB\n",
            "                          RS: Not affected; BHI: Vulnerable (Syscall hardening e\n",
            "                          nabled)\n",
            "  Srbds:                  Not affected\n",
            "  Tsx async abort:        Vulnerable\n"
          ]
        }
      ]
    }
  ]
}